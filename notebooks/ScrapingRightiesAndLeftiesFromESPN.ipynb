{
 "cells": [
  {
   "cell_type": "code",
   "execution_count": 1,
   "metadata": {
    "collapsed": false
   },
   "outputs": [],
   "source": [
    "from urllib.request import urlopen \n",
    "from bs4 import BeautifulSoup"
   ]
  },
  {
   "cell_type": "markdown",
   "metadata": {},
   "source": [
    "## Righties"
   ]
  },
  {
   "cell_type": "code",
   "execution_count": 19,
   "metadata": {
    "collapsed": true
   },
   "outputs": [],
   "source": [
    "page1_url = 'http://www.espn.com/mlb/stats/batting/_/hand/right/split/31/minpa/25'"
   ]
  },
  {
   "cell_type": "code",
   "execution_count": 20,
   "metadata": {
    "collapsed": false
   },
   "outputs": [
    {
     "name": "stderr",
     "output_type": "stream",
     "text": [
      "/Users/tatePro/anaconda/lib/python3.5/site-packages/bs4/__init__.py:166: UserWarning: No parser was explicitly specified, so I'm using the best available HTML parser for this system (\"lxml\"). This usually isn't a problem, but if you run this code on another system, or in a different virtual environment, it may use a different parser and behave differently.\n",
      "\n",
      "To get rid of this warning, change this:\n",
      "\n",
      " BeautifulSoup([your markup])\n",
      "\n",
      "to this:\n",
      "\n",
      " BeautifulSoup([your markup], \"lxml\")\n",
      "\n",
      "  markup_type=markup_type))\n"
     ]
    }
   ],
   "source": [
    "page1_soup = BeautifulSoup(urlopen(page1_url).read())"
   ]
  },
  {
   "cell_type": "markdown",
   "metadata": {},
   "source": [
    "# BATTERS"
   ]
  },
  {
   "cell_type": "markdown",
   "metadata": {},
   "source": [
    "## Header \n",
    "\n",
    "PLAYER,TEAM,AB,R,H,2B,3B,HR,RBI,SB,CS,BB,SO,AVG,OBP,SLG,OPS"
   ]
  },
  {
   "cell_type": "code",
   "execution_count": 23,
   "metadata": {
    "collapsed": true
   },
   "outputs": [],
   "source": [
    "espn_batting_stats_header = 'PLAYER,TEAM,AB,R,H,2B,3B,HR,RBI,SB,CS,BB,SO,AVG,OBP,SLG,OPS'"
   ]
  },
  {
   "cell_type": "markdown",
   "metadata": {},
   "source": [
    "### Righties against Lefties "
   ]
  },
  {
   "cell_type": "code",
   "execution_count": 22,
   "metadata": {
    "collapsed": true
   },
   "outputs": [],
   "source": [
    "rvl_urls = [\n",
    "    'http://www.espn.com/mlb/stats/batting/_/hand/right/split/31/minpa/25',\n",
    "    'http://www.espn.com/mlb/stats/batting/_/hand/right/split/31/count/41/qualified/false/minpa/25',\n",
    "    'http://www.espn.com/mlb/stats/batting/_/hand/right/split/31/count/81/qualified/false/minpa/25',\n",
    "    'http://www.espn.com/mlb/stats/batting/_/hand/right/split/31/count/121/qualified/false/minpa/25',\n",
    "    'http://www.espn.com/mlb/stats/batting/_/hand/right/split/31/count/161/qualified/false/minpa/25',\n",
    "    'http://www.espn.com/mlb/stats/batting/_/hand/right/split/31/count/201/qualified/false/minpa/25',\n",
    "    'http://www.espn.com/mlb/stats/batting/_/hand/right/split/31/count/241/qualified/false/minpa/25'\n",
    "]"
   ]
  },
  {
   "cell_type": "code",
   "execution_count": 24,
   "metadata": {
    "collapsed": false
   },
   "outputs": [
    {
     "name": "stderr",
     "output_type": "stream",
     "text": [
      "/Users/tatePro/anaconda/lib/python3.5/site-packages/bs4/__init__.py:166: UserWarning: No parser was explicitly specified, so I'm using the best available HTML parser for this system (\"lxml\"). This usually isn't a problem, but if you run this code on another system, or in a different virtual environment, it may use a different parser and behave differently.\n",
      "\n",
      "To get rid of this warning, change this:\n",
      "\n",
      " BeautifulSoup([your markup])\n",
      "\n",
      "to this:\n",
      "\n",
      " BeautifulSoup([your markup], \"lxml\")\n",
      "\n",
      "  markup_type=markup_type))\n"
     ]
    }
   ],
   "source": [
    "with open('../mlb_data/splits/batters_righties_v_lefties_espn_batting_stats.csv', 'w') as file:\n",
    "    file.write(espn_batting_stats_header)\n",
    "    for url in rvl_urls:\n",
    "        soup = BeautifulSoup(urlopen(url).read())\n",
    "        for table in soup.findAll('table'):\n",
    "            for j, row in enumerate(table.findAll('tr')):\n",
    "                row_data = '\\n'\n",
    "                tds = row.findAll('td')\n",
    "                for i, td in enumerate(tds):\n",
    "                    if i > 0:\n",
    "                        row_data += td.text \n",
    "                        if i != len(tds) - 1:\n",
    "                            row_data += ','\n",
    "                if j > 0 and 'PLAYER' not in row_data:\n",
    "                    file.write(row_data)\n",
    "            "
   ]
  },
  {
   "cell_type": "markdown",
   "metadata": {},
   "source": [
    "### Righties against Righties "
   ]
  },
  {
   "cell_type": "code",
   "execution_count": 27,
   "metadata": {
    "collapsed": true
   },
   "outputs": [],
   "source": [
    "rvr_urls = [\n",
    "    'http://www.espn.com/mlb/stats/batting/_/hand/right/split/32/minpa/25',\n",
    "    'http://www.espn.com/mlb/stats/batting/_/hand/right/split/32/count/41/qualified/false/minpa/25',\n",
    "    'http://www.espn.com/mlb/stats/batting/_/hand/right/split/32/count/81/qualified/false/minpa/25',\n",
    "    'http://www.espn.com/mlb/stats/batting/_/hand/right/split/32/count/121/qualified/false/minpa/25',\n",
    "    'http://www.espn.com/mlb/stats/batting/_/hand/right/split/32/count/161/qualified/false/minpa/25',\n",
    "    'http://www.espn.com/mlb/stats/batting/_/hand/right/split/32/count/201/qualified/false/minpa/25',\n",
    "    'http://www.espn.com/mlb/stats/batting/_/hand/right/split/32/count/241/qualified/false/minpa/25',\n",
    "    'http://www.espn.com/mlb/stats/batting/_/hand/right/split/32/count/281/qualified/false/minpa/25',\n",
    "    'http://www.espn.com/mlb/stats/batting/_/hand/right/split/32/count/321/qualified/false/minpa/25'\n",
    "]"
   ]
  },
  {
   "cell_type": "code",
   "execution_count": 28,
   "metadata": {
    "collapsed": false
   },
   "outputs": [
    {
     "name": "stderr",
     "output_type": "stream",
     "text": [
      "/Users/tatePro/anaconda/lib/python3.5/site-packages/bs4/__init__.py:166: UserWarning: No parser was explicitly specified, so I'm using the best available HTML parser for this system (\"lxml\"). This usually isn't a problem, but if you run this code on another system, or in a different virtual environment, it may use a different parser and behave differently.\n",
      "\n",
      "To get rid of this warning, change this:\n",
      "\n",
      " BeautifulSoup([your markup])\n",
      "\n",
      "to this:\n",
      "\n",
      " BeautifulSoup([your markup], \"lxml\")\n",
      "\n",
      "  markup_type=markup_type))\n"
     ]
    }
   ],
   "source": [
    "with open('../mlb_data/splits/batters_righties_v_righties_espn_batting_stats.csv', 'w') as file:\n",
    "    file.write(espn_batting_stats_header)\n",
    "    for url in rvr_urls:\n",
    "        soup = BeautifulSoup(urlopen(url).read())\n",
    "        for table in soup.findAll('table'):\n",
    "            for j, row in enumerate(table.findAll('tr')):\n",
    "                row_data = '\\n'\n",
    "                tds = row.findAll('td')\n",
    "                for i, td in enumerate(tds):\n",
    "                    if i > 0:\n",
    "                        row_data += td.text \n",
    "                        if i != len(tds) - 1:\n",
    "                            row_data += ','\n",
    "                if j > 0 and 'PLAYER' not in row_data:\n",
    "                    file.write(row_data)"
   ]
  },
  {
   "cell_type": "markdown",
   "metadata": {},
   "source": [
    "### Lefties against Righties "
   ]
  },
  {
   "cell_type": "code",
   "execution_count": 29,
   "metadata": {
    "collapsed": true
   },
   "outputs": [],
   "source": [
    "lvr_urls = [\n",
    "    'http://www.espn.com/mlb/stats/batting/_/hand/left/split/32/minpa/25',\n",
    "    'http://www.espn.com/mlb/stats/batting/_/hand/left/split/32/count/41/qualified/false/minpa/25',\n",
    "    'http://www.espn.com/mlb/stats/batting/_/hand/left/split/32/count/81/qualified/false/minpa/25',\n",
    "    'http://www.espn.com/mlb/stats/batting/_/hand/left/split/32/count/121/qualified/false/minpa/25',\n",
    "    'http://www.espn.com/mlb/stats/batting/_/hand/left/split/32/count/161/qualified/false/minpa/25'\n",
    "]"
   ]
  },
  {
   "cell_type": "code",
   "execution_count": 30,
   "metadata": {
    "collapsed": false
   },
   "outputs": [
    {
     "name": "stderr",
     "output_type": "stream",
     "text": [
      "/Users/tatePro/anaconda/lib/python3.5/site-packages/bs4/__init__.py:166: UserWarning: No parser was explicitly specified, so I'm using the best available HTML parser for this system (\"lxml\"). This usually isn't a problem, but if you run this code on another system, or in a different virtual environment, it may use a different parser and behave differently.\n",
      "\n",
      "To get rid of this warning, change this:\n",
      "\n",
      " BeautifulSoup([your markup])\n",
      "\n",
      "to this:\n",
      "\n",
      " BeautifulSoup([your markup], \"lxml\")\n",
      "\n",
      "  markup_type=markup_type))\n"
     ]
    }
   ],
   "source": [
    "with open('../mlb_data/splits/batters_lefties_v_righties_espn_batting_stats.csv', 'w') as file:\n",
    "    file.write(espn_batting_stats_header)\n",
    "    for url in lvr_urls:\n",
    "        soup = BeautifulSoup(urlopen(url).read())\n",
    "        for table in soup.findAll('table'):\n",
    "            for j, row in enumerate(table.findAll('tr')):\n",
    "                row_data = '\\n'\n",
    "                tds = row.findAll('td')\n",
    "                for i, td in enumerate(tds):\n",
    "                    if i > 0:\n",
    "                        row_data += td.text \n",
    "                        if i != len(tds) - 1:\n",
    "                            row_data += ','\n",
    "                if j > 0 and 'PLAYER' not in row_data:\n",
    "                    file.write(row_data)"
   ]
  },
  {
   "cell_type": "markdown",
   "metadata": {},
   "source": [
    "### Lefties against Lefties "
   ]
  },
  {
   "cell_type": "code",
   "execution_count": 31,
   "metadata": {
    "collapsed": true
   },
   "outputs": [],
   "source": [
    "lvl_urls = [\n",
    "    'http://www.espn.com/mlb/stats/batting/_/hand/left/split/31/minpa/25',\n",
    "    'http://www.espn.com/mlb/stats/batting/_/hand/left/split/31/count/41/qualified/false/minpa/25',\n",
    "    'http://www.espn.com/mlb/stats/batting/_/hand/left/split/31/count/81/qualified/false/minpa/25',\n",
    "    'http://www.espn.com/mlb/stats/batting/_/hand/left/split/31/count/121/qualified/false/minpa/25'\n",
    "]"
   ]
  },
  {
   "cell_type": "code",
   "execution_count": 32,
   "metadata": {
    "collapsed": false
   },
   "outputs": [
    {
     "name": "stderr",
     "output_type": "stream",
     "text": [
      "/Users/tatePro/anaconda/lib/python3.5/site-packages/bs4/__init__.py:166: UserWarning: No parser was explicitly specified, so I'm using the best available HTML parser for this system (\"lxml\"). This usually isn't a problem, but if you run this code on another system, or in a different virtual environment, it may use a different parser and behave differently.\n",
      "\n",
      "To get rid of this warning, change this:\n",
      "\n",
      " BeautifulSoup([your markup])\n",
      "\n",
      "to this:\n",
      "\n",
      " BeautifulSoup([your markup], \"lxml\")\n",
      "\n",
      "  markup_type=markup_type))\n"
     ]
    }
   ],
   "source": [
    "with open('../mlb_data/splits/batters_lefties_v_lefties_espn_batting_stats.csv', 'w') as file:\n",
    "    file.write(espn_batting_stats_header)\n",
    "    for url in lvl_urls:\n",
    "        soup = BeautifulSoup(urlopen(url).read())\n",
    "        for table in soup.findAll('table'):\n",
    "            for j, row in enumerate(table.findAll('tr')):\n",
    "                row_data = '\\n'\n",
    "                tds = row.findAll('td')\n",
    "                for i, td in enumerate(tds):\n",
    "                    if i > 0:\n",
    "                        row_data += td.text \n",
    "                        if i != len(tds) - 1:\n",
    "                            row_data += ','\n",
    "                if j > 0 and 'PLAYER' not in row_data:\n",
    "                    file.write(row_data)"
   ]
  },
  {
   "cell_type": "markdown",
   "metadata": {},
   "source": [
    "# PITCHERS "
   ]
  },
  {
   "cell_type": "markdown",
   "metadata": {},
   "source": [
    "## Righties against Lefties "
   ]
  },
  {
   "cell_type": "code",
   "execution_count": 2,
   "metadata": {
    "collapsed": true
   },
   "outputs": [],
   "source": [
    "rvl_urls_p = [\n",
    "    'http://www.espn.com/mlb/stats/pitching/_/hand/right/split/31/order/false/minip/20',\n",
    "    'http://www.espn.com/mlb/stats/pitching/_/hand/right/split/31/count/41/qualified/false/order/false/minip/20',\n",
    "    'http://www.espn.com/mlb/stats/pitching/_/hand/right/split/31/count/81/qualified/false/order/false/minip/20',\n",
    "    'http://www.espn.com/mlb/stats/pitching/_/hand/right/split/31/count/121/qualified/false/order/false/minip/20',\n",
    "    'http://www.espn.com/mlb/stats/pitching/_/hand/right/split/31/count/161/qualified/false/order/false/minip/20',\n",
    "    'http://www.espn.com/mlb/stats/pitching/_/hand/right/split/31/count/201/qualified/false/order/false/minip/20',\n",
    "    'http://www.espn.com/mlb/stats/pitching/_/hand/right/split/31/count/241/qualified/false/order/false/minip/20'\n",
    "]"
   ]
  },
  {
   "cell_type": "code",
   "execution_count": 3,
   "metadata": {
    "collapsed": false
   },
   "outputs": [
    {
     "name": "stderr",
     "output_type": "stream",
     "text": [
      "/Users/tatePro/anaconda/lib/python3.5/site-packages/bs4/__init__.py:166: UserWarning: No parser was explicitly specified, so I'm using the best available HTML parser for this system (\"lxml\"). This usually isn't a problem, but if you run this code on another system, or in a different virtual environment, it may use a different parser and behave differently.\n",
      "\n",
      "To get rid of this warning, change this:\n",
      "\n",
      " BeautifulSoup([your markup])\n",
      "\n",
      "to this:\n",
      "\n",
      " BeautifulSoup([your markup], \"lxml\")\n",
      "\n",
      "  markup_type=markup_type))\n"
     ]
    }
   ],
   "source": [
    "soup = BeautifulSoup(urlopen(rvl_urls_p[0]).read())"
   ]
  },
  {
   "cell_type": "code",
   "execution_count": 5,
   "metadata": {
    "collapsed": false,
    "scrolled": true
   },
   "outputs": [
    {
     "name": "stdout",
     "output_type": "stream",
     "text": [
      "\n",
      "PLAYER,TEAM,GP,GS,IP,H,R,ER,BB,SO,W,L,SV,HLD,BLSV,WHIP,ERA\n",
      "\n",
      "Dan Otero,CLE,55,0,34.1,23,3,3,8,29,0,0,0,0,0,0.90,0.79\n",
      "\n",
      "Wade Davis,KC,43,0,22.1,16,3,3,6,26,0,0,0,0,0,0.99,1.21\n",
      "\n",
      "Hansel Robles,NYM,63,0,33.2,21,6,5,18,39,0,0,0,0,0,1.16,1.34\n",
      "\n",
      "Alex Colome,TB,47,0,24.1,16,4,4,8,31,0,0,0,0,0,0.99,1.48\n",
      "\n",
      "Mark Melancon,WSH/PIT,63,0,30.1,25,8,5,8,32,0,0,0,0,0,1.09,1.48\n",
      "\n",
      "Nick Wittgren,MIA,42,0,24.0,22,4,4,6,17,0,0,0,0,0,1.17,1.50\n",
      "\n",
      "Tyler Thornburg,MIL,61,0,29.1,13,6,5,11,45,0,0,0,0,0,0.82,1.53\n",
      "\n",
      "Kyle Hendricks,CHC,31,0,80.0,64,19,14,17,71,0,0,0,0,0,1.01,1.58\n",
      "\n",
      "Nick Vincent,SEA,54,0,22.0,19,4,4,8,22,0,0,0,0,0,1.23,1.64\n",
      "\n",
      "Steve Cishek,SEA,54,0,27.1,22,5,5,12,35,0,0,0,0,0,1.24,1.65\n",
      "\n",
      "PLAYER,TEAM,GP,GS,IP,H,R,ER,BB,SO,W,L,SV,HLD,BLSV,WHIP,ERA\n",
      "\n",
      "Seung-Hwan Oh,STL,67,0,36.0,23,9,7,8,36,0,0,0,0,0,0.86,1.75\n",
      "\n",
      "Robert Gsellman,NYM,8,0,20.1,17,4,4,8,23,0,0,0,0,0,1.23,1.77\n",
      "\n",
      "Ryan Dull,OAK,50,0,23.0,22,5,5,10,21,0,0,0,0,0,1.39,1.96\n",
      "\n",
      "Will Harris,HOU,61,0,31.1,23,7,7,6,38,0,0,0,0,0,0.93,2.01\n",
      "\n",
      "Jhan Marinez,MIL/TB,42,0,26.2,26,6,6,10,21,0,0,0,0,0,1.35,2.03\n",
      "\n",
      "Derek Law,SF,43,0,22.0,15,5,5,1,20,0,0,0,0,0,0.73,2.05\n",
      "\n",
      "Jake Odorizzi,TB,33,0,82.1,56,19,19,22,86,0,0,0,0,0,0.95,2.08\n",
      "\n",
      "Michael Lorenzen,CIN,34,0,25.2,18,6,6,8,16,0,0,0,0,0,1.01,2.10\n",
      "\n",
      "Tanner Roark,WSH,34,0,98.1,75,24,23,44,76,0,0,0,0,0,1.21,2.11\n",
      "\n",
      "Alex Wilson,DET,52,0,29.2,27,9,7,13,18,0,0,0,0,0,1.35,2.12\n",
      "\n",
      "PLAYER,TEAM,GP,GS,IP,H,R,ER,BB,SO,W,L,SV,HLD,BLSV,WHIP,ERA\n",
      "\n",
      "Addison Reed,NYM,73,0,32.1,25,8,8,9,36,0,0,0,0,0,1.05,2.23\n",
      "\n",
      "Carlos Torres,MIL,65,0,36.1,30,9,9,14,29,0,0,0,0,0,1.21,2.23\n",
      "\n",
      "Joe Blanton,LAD,60,0,27.2,18,8,7,14,28,0,0,0,0,0,1.16,2.28\n",
      "\n",
      "Dellin Betances,NYY,68,0,31.1,28,11,8,10,57,0,0,0,0,0,1.21,2.30\n",
      "\n",
      "Johnny Cueto,SF,32,0,100.0,98,27,26,22,96,0,0,0,0,0,1.20,2.34\n",
      "\n",
      "Junichi Tazawa,BOS,49,0,23.0,17,6,6,8,19,0,0,0,0,0,1.09,2.35\n",
      "\n",
      "Paul Clemens,SD/MIA,16,0,30.2,21,9,8,17,29,0,0,0,0,0,1.24,2.35\n",
      "\n",
      "Bryan Shaw,CLE,62,0,26.2,25,8,7,13,26,0,0,0,0,0,1.43,2.36\n",
      "\n",
      "Jacob deGrom,NYM,24,0,78.0,69,22,21,19,70,0,0,0,0,0,1.13,2.42\n",
      "\n",
      "Carlos Carrasco,CLE,24,0,66.1,58,28,18,21,68,0,0,0,0,0,1.19,2.44\n",
      "\n",
      "PLAYER,TEAM,GP,GS,IP,H,R,ER,BB,SO,W,L,SV,HLD,BLSV,WHIP,ERA\n",
      "\n",
      "Michael Fulmer,DET,26,0,82.2,67,24,23,26,60,0,0,0,0,0,1.13,2.50\n",
      "\n",
      "Ross Stripling,LAD,22,0,46.1,38,14,13,13,36,0,0,0,0,0,1.10,2.53\n",
      "\n",
      "Chris Devenski,HOU,45,0,53.1,43,15,15,12,53,0,0,0,0,0,1.03,2.53\n",
      "\n",
      "Kenley Jansen,LAD,62,0,31.2,22,9,9,6,52,0,0,0,0,0,0.88,2.56\n",
      "\n",
      "Joaquin Benoit,SEA/TOR,48,0,20.2,19,7,6,10,21,0,0,0,0,0,1.40,2.61\n",
      "\n",
      "Matt Belisle,WSH,37,0,20.2,12,9,6,3,19,0,0,0,0,0,0.73,2.61\n",
      "\n",
      "Rick Porcello,BOS,33,0,117.0,98,38,34,17,98,0,0,0,0,0,0.98,2.62\n",
      "\n",
      "Liam Hendriks,OAK,47,0,27.0,23,9,8,6,33,0,0,0,0,0,1.07,2.67\n",
      "\n",
      "Junior Guerra,MIL,20,0,54.0,37,18,16,24,46,0,0,0,0,0,1.13,2.67\n",
      "\n",
      "Brad Ziegler,BOS/ARI,57,0,26.2,28,12,8,16,15,0,0,0,0,0,1.65,2.70\n"
     ]
    }
   ],
   "source": [
    "for table in soup.findAll('table'):\n",
    "    for j, row in enumerate(table.findAll('tr')):\n",
    "        row_data = '\\n'\n",
    "        tds = row.findAll('td')\n",
    "        for i, td in enumerate(tds):\n",
    "            if i > 0:\n",
    "                row_data += td.text \n",
    "                if i != len(tds) - 1:\n",
    "                    row_data += ','\n",
    "        if j > 0:\n",
    "            print(row_data)"
   ]
  },
  {
   "cell_type": "markdown",
   "metadata": {},
   "source": [
    "## Header \n",
    "\n",
    "PLAYER,TEAM,GP,GS,IP,H,R,ER,BB,SO,W,L,SV,HLD,BLSV,WHIP,ERA"
   ]
  },
  {
   "cell_type": "code",
   "execution_count": 6,
   "metadata": {
    "collapsed": true
   },
   "outputs": [],
   "source": [
    "espn_pitching_stats_header = 'PLAYER,TEAM,GP,GS,IP,H,R,ER,BB,SO,W,L,SV,HLD,BLSV,WHIP,ERA'"
   ]
  },
  {
   "cell_type": "code",
   "execution_count": 7,
   "metadata": {
    "collapsed": false
   },
   "outputs": [
    {
     "name": "stderr",
     "output_type": "stream",
     "text": [
      "/Users/tatePro/anaconda/lib/python3.5/site-packages/bs4/__init__.py:166: UserWarning: No parser was explicitly specified, so I'm using the best available HTML parser for this system (\"lxml\"). This usually isn't a problem, but if you run this code on another system, or in a different virtual environment, it may use a different parser and behave differently.\n",
      "\n",
      "To get rid of this warning, change this:\n",
      "\n",
      " BeautifulSoup([your markup])\n",
      "\n",
      "to this:\n",
      "\n",
      " BeautifulSoup([your markup], \"lxml\")\n",
      "\n",
      "  markup_type=markup_type))\n"
     ]
    }
   ],
   "source": [
    "with open('../mlb_data/splits/espn_splits/pitching/RVL_pitching_stats.csv', 'w') as file:\n",
    "    file.write(espn_pitching_stats_header)\n",
    "    for url in rvl_urls_p:\n",
    "        soup = BeautifulSoup(urlopen(url).read())\n",
    "        for table in soup.findAll('table'):\n",
    "            for j, row in enumerate(table.findAll('tr')):\n",
    "                row_data = '\\n'\n",
    "                tds = row.findAll('td')\n",
    "                for i, td in enumerate(tds):\n",
    "                    if i > 0:\n",
    "                        row_data += td.text \n",
    "                        if i != len(tds) - 1:\n",
    "                            row_data += ','\n",
    "                if j > 0 and 'PLAYER' not in row_data:\n",
    "                    file.write(row_data)"
   ]
  },
  {
   "cell_type": "markdown",
   "metadata": {
    "collapsed": true
   },
   "source": [
    "## Righties against Righties "
   ]
  },
  {
   "cell_type": "code",
   "execution_count": 8,
   "metadata": {
    "collapsed": true
   },
   "outputs": [],
   "source": [
    "rvr_urls_p = [\n",
    "    'http://www.espn.com/mlb/stats/pitching/_/hand/right/split/32/order/false/minip/20',\n",
    "    'http://www.espn.com/mlb/stats/pitching/_/hand/right/split/32/count/41/qualified/false/order/false/minip/20',\n",
    "    'http://www.espn.com/mlb/stats/pitching/_/hand/right/split/32/count/81/qualified/false/order/false/minip/20',\n",
    "    'http://www.espn.com/mlb/stats/pitching/_/hand/right/split/32/count/121/qualified/false/order/false/minip/20',\n",
    "    'http://www.espn.com/mlb/stats/pitching/_/hand/right/split/32/count/161/qualified/false/order/false/minip/20',\n",
    "    'http://www.espn.com/mlb/stats/pitching/_/hand/right/split/32/count/201/qualified/false/order/false/minip/20',\n",
    "    'http://www.espn.com/mlb/stats/pitching/_/hand/right/split/32/count/241/qualified/false/order/false/minip/20',\n",
    "    'http://www.espn.com/mlb/stats/pitching/_/hand/right/split/32/count/281/qualified/false/order/false/minip/20'\n",
    "]"
   ]
  },
  {
   "cell_type": "code",
   "execution_count": 9,
   "metadata": {
    "collapsed": false
   },
   "outputs": [
    {
     "name": "stderr",
     "output_type": "stream",
     "text": [
      "/Users/tatePro/anaconda/lib/python3.5/site-packages/bs4/__init__.py:166: UserWarning: No parser was explicitly specified, so I'm using the best available HTML parser for this system (\"lxml\"). This usually isn't a problem, but if you run this code on another system, or in a different virtual environment, it may use a different parser and behave differently.\n",
      "\n",
      "To get rid of this warning, change this:\n",
      "\n",
      " BeautifulSoup([your markup])\n",
      "\n",
      "to this:\n",
      "\n",
      " BeautifulSoup([your markup], \"lxml\")\n",
      "\n",
      "  markup_type=markup_type))\n"
     ]
    }
   ],
   "source": [
    "with open('../mlb_data/splits/espn_splits/pitching/RVR_pitching_stats.csv', 'w') as file:\n",
    "    file.write(espn_pitching_stats_header)\n",
    "    for url in rvr_urls_p:\n",
    "        soup = BeautifulSoup(urlopen(url).read())\n",
    "        for table in soup.findAll('table'):\n",
    "            for j, row in enumerate(table.findAll('tr')):\n",
    "                row_data = '\\n'\n",
    "                tds = row.findAll('td')\n",
    "                for i, td in enumerate(tds):\n",
    "                    if i > 0:\n",
    "                        row_data += td.text \n",
    "                        if i != len(tds) - 1:\n",
    "                            row_data += ','\n",
    "                if j > 0 and 'PLAYER' not in row_data:\n",
    "                    file.write(row_data)"
   ]
  },
  {
   "cell_type": "markdown",
   "metadata": {},
   "source": [
    "## Lefties against Righties "
   ]
  },
  {
   "cell_type": "code",
   "execution_count": 10,
   "metadata": {
    "collapsed": true
   },
   "outputs": [],
   "source": [
    "lvr_urls_p = [\n",
    "    'http://www.espn.com/mlb/stats/pitching/_/hand/left/split/32/order/false/minip/20',\n",
    "    'http://www.espn.com/mlb/stats/pitching/_/hand/left/split/32/count/41/order/false/minip/20',\n",
    "    'http://www.espn.com/mlb/stats/pitching/_/hand/left/split/32/count/81/qualified/false/order/false/minip/20'\n",
    "\n",
    "]"
   ]
  },
  {
   "cell_type": "code",
   "execution_count": 11,
   "metadata": {
    "collapsed": false
   },
   "outputs": [
    {
     "name": "stderr",
     "output_type": "stream",
     "text": [
      "/Users/tatePro/anaconda/lib/python3.5/site-packages/bs4/__init__.py:166: UserWarning: No parser was explicitly specified, so I'm using the best available HTML parser for this system (\"lxml\"). This usually isn't a problem, but if you run this code on another system, or in a different virtual environment, it may use a different parser and behave differently.\n",
      "\n",
      "To get rid of this warning, change this:\n",
      "\n",
      " BeautifulSoup([your markup])\n",
      "\n",
      "to this:\n",
      "\n",
      " BeautifulSoup([your markup], \"lxml\")\n",
      "\n",
      "  markup_type=markup_type))\n"
     ]
    }
   ],
   "source": [
    "with open('../mlb_data/splits/espn_splits/pitching/LVR_pitching_stats.csv', 'w') as file:\n",
    "    file.write(espn_pitching_stats_header)\n",
    "    for url in lvr_urls_p:\n",
    "        soup = BeautifulSoup(urlopen(url).read())\n",
    "        for table in soup.findAll('table'):\n",
    "            for j, row in enumerate(table.findAll('tr')):\n",
    "                row_data = '\\n'\n",
    "                tds = row.findAll('td')\n",
    "                for i, td in enumerate(tds):\n",
    "                    if i > 0:\n",
    "                        row_data += td.text \n",
    "                        if i != len(tds) - 1:\n",
    "                            row_data += ','\n",
    "                if j > 0 and 'PLAYER' not in row_data:\n",
    "                    file.write(row_data)"
   ]
  },
  {
   "cell_type": "markdown",
   "metadata": {},
   "source": [
    "## Lefties against Lefties "
   ]
  },
  {
   "cell_type": "code",
   "execution_count": 12,
   "metadata": {
    "collapsed": true
   },
   "outputs": [],
   "source": [
    "lvl_urls_p = [\n",
    "    'http://www.espn.com/mlb/stats/pitching/_/hand/left/split/31/order/false/minip/20',\n",
    "    'http://www.espn.com/mlb/stats/pitching/_/hand/left/split/31/count/41/qualified/false/order/false/minip/20'\n",
    "\n",
    "]"
   ]
  },
  {
   "cell_type": "code",
   "execution_count": 13,
   "metadata": {
    "collapsed": false
   },
   "outputs": [
    {
     "name": "stderr",
     "output_type": "stream",
     "text": [
      "/Users/tatePro/anaconda/lib/python3.5/site-packages/bs4/__init__.py:166: UserWarning: No parser was explicitly specified, so I'm using the best available HTML parser for this system (\"lxml\"). This usually isn't a problem, but if you run this code on another system, or in a different virtual environment, it may use a different parser and behave differently.\n",
      "\n",
      "To get rid of this warning, change this:\n",
      "\n",
      " BeautifulSoup([your markup])\n",
      "\n",
      "to this:\n",
      "\n",
      " BeautifulSoup([your markup], \"lxml\")\n",
      "\n",
      "  markup_type=markup_type))\n"
     ]
    }
   ],
   "source": [
    "with open('../mlb_data/splits/espn_splits/pitching/LVL_pitching_stats.csv', 'w') as file:\n",
    "    file.write(espn_pitching_stats_header)\n",
    "    for url in lvl_urls_p:\n",
    "        soup = BeautifulSoup(urlopen(url).read())\n",
    "        for table in soup.findAll('table'):\n",
    "            for j, row in enumerate(table.findAll('tr')):\n",
    "                row_data = '\\n'\n",
    "                tds = row.findAll('td')\n",
    "                for i, td in enumerate(tds):\n",
    "                    if i > 0:\n",
    "                        row_data += td.text \n",
    "                        if i != len(tds) - 1:\n",
    "                            row_data += ','\n",
    "                if j > 0 and 'PLAYER' not in row_data:\n",
    "                    file.write(row_data)"
   ]
  },
  {
   "cell_type": "code",
   "execution_count": null,
   "metadata": {
    "collapsed": true
   },
   "outputs": [],
   "source": []
  }
 ],
 "metadata": {
  "anaconda-cloud": {},
  "kernelspec": {
   "display_name": "Python [Root]",
   "language": "python",
   "name": "Python [Root]"
  },
  "language_info": {
   "codemirror_mode": {
    "name": "ipython",
    "version": 3
   },
   "file_extension": ".py",
   "mimetype": "text/x-python",
   "name": "python",
   "nbconvert_exporter": "python",
   "pygments_lexer": "ipython3",
   "version": "3.5.2"
  }
 },
 "nbformat": 4,
 "nbformat_minor": 0
}
