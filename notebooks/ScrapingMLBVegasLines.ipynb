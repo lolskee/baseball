{
 "cells": [
  {
   "cell_type": "code",
   "execution_count": 1,
   "metadata": {
    "collapsed": true
   },
   "outputs": [],
   "source": [
    "from urllib.request import urlopen \n",
    "from bs4 import BeautifulSoup"
   ]
  },
  {
   "cell_type": "code",
   "execution_count": 2,
   "metadata": {
    "collapsed": true
   },
   "outputs": [],
   "source": [
    "from calendar import monthrange"
   ]
  },
  {
   "cell_type": "code",
   "execution_count": 3,
   "metadata": {
    "collapsed": true
   },
   "outputs": [],
   "source": [
    "month_day_tups = list()\n",
    "months = [4, 5, 6, 7, 8, 9]"
   ]
  },
  {
   "cell_type": "code",
   "execution_count": 4,
   "metadata": {
    "collapsed": true
   },
   "outputs": [],
   "source": [
    "for month in months:\n",
    "    days_in_month = monthrange(2016, month)[1]\n",
    "    for i in range(days_in_month):\n",
    "        month_day_tups.append((month, i + 1))"
   ]
  },
  {
   "cell_type": "code",
   "execution_count": 5,
   "metadata": {
    "collapsed": true
   },
   "outputs": [],
   "source": [
    "month_day_tups.append((10, 1))\n",
    "month_day_tups.append((10, 2))\n",
    "month_day_tups = month_day_tups[2:]"
   ]
  },
  {
   "cell_type": "code",
   "execution_count": 69,
   "metadata": {
    "collapsed": true
   },
   "outputs": [],
   "source": [
    "import pandas as pd"
   ]
  },
  {
   "cell_type": "code",
   "execution_count": 128,
   "metadata": {
    "collapsed": false
   },
   "outputs": [],
   "source": [
    "def scrape_mlb_vegas_lines(day, month, year):\n",
    "    zero_pad = lambda x: str(x) if len(str(x)) > 1 else '0' + str(x)\n",
    "    date = str(year) + zero_pad(month) + zero_pad(day)\n",
    "    month_day = str(month) + zero_pad(day)\n",
    "    money_line_base_url = 'http://www.sportsbookreview.com/betting-odds/mlb-baseball/?date={}'\n",
    "    over_under_base_url = 'http://www.sportsbookreview.com/betting-odds/mlb-baseball/totals/?date={}'\n",
    "    #scrape money lines \n",
    "    ml_soup = BeautifulSoup(urlopen(money_line_base_url.format(date)).read(), \"lxml\")\n",
    "    game_data_list = list()\n",
    "    game_data_header = 'month_day,home_team,away_team,home_pitcher,away_pitcher,home_ml,away_ml'\n",
    "    for div in ml_soup.findAll('div', {'class': 'data'}):\n",
    "        for game in div.findAll('div', {'class': 'event-holder'}):\n",
    "            try:\n",
    "                game_data = month_day + ', '\n",
    "                for i, tag in enumerate(game.findAll()):\n",
    "                    if i == 36:\n",
    "                        away_team, away_pitcher = tag.text.split('-')\n",
    "                    if i == 42:\n",
    "                        home_team, home_pitcher = tag.text.split('-')\n",
    "                    if i == 59:\n",
    "                        away_ml = tag.text\n",
    "                    if i == 61:\n",
    "                        home_ml = tag.text\n",
    "                gd = [month_day, home_team, away_team, \n",
    "                                       home_pitcher, away_pitcher, home_ml, away_ml[-4:]]\n",
    "                gd = [''.join([i if ord(i) < 128 else '' for i in text]) for text in gd]\n",
    "                game_data_list.append(gd)\n",
    "            except:\n",
    "                pass\n",
    "    #scrape over/unders\n",
    "    ou_soup = BeautifulSoup(urlopen(over_under_base_url.format(date)).read(), \"lxml\")\n",
    "    ou_data_list = list()\n",
    "    for div in ou_soup.findAll('div', {'class': 'data'}):\n",
    "        for game_index, game in enumerate(div.findAll('div', {'class': 'event-holder'})):\n",
    "            try:\n",
    "                for i, tag in enumerate(game.findAll()):\n",
    "#                     print(i, tag.text)\n",
    "                    if i == 38:\n",
    "                        ou_away_pitcher = tag.text.split('-')[1]\n",
    "                    if i == 67:\n",
    "                        over_under_text = tag.text.replace('+', '-').split('\\xa0')[0]\n",
    "                        try:\n",
    "                            over_under = float(over_under_text)\n",
    "                        except:\n",
    "                            over_under = float(over_under_text[:-1]) + 0.5\n",
    "                ou_data_list.append([ou_away_pitcher, over_under])\n",
    "            except Exception as e:\n",
    "                pass\n",
    "    \n",
    "    game_data_df = pd.DataFrame(game_data_list, columns=game_data_header.split(','))\n",
    "    ou_df = pd.DataFrame(ou_data_list, columns=['away_pitcher', 'over_under'])\n",
    "    ou_df.away_pitcher = ou_df.away_pitcher.apply(\n",
    "        lambda x: ''.join([i if ord(i) < 128 else '' for i in x]))\n",
    "                    \n",
    "    return game_data_df.merge(ou_df, on='away_pitcher', how='left')"
   ]
  },
  {
   "cell_type": "code",
   "execution_count": 129,
   "metadata": {
    "collapsed": false,
    "scrolled": true
   },
   "outputs": [],
   "source": [
    "df = scrape_mlb_vegas_lines(10, 4, 2016)\n"
   ]
  },
  {
   "cell_type": "code",
   "execution_count": 130,
   "metadata": {
    "collapsed": false
   },
   "outputs": [
    {
     "data": {
      "text/html": [
       "<div>\n",
       "<table border=\"1\" class=\"dataframe\">\n",
       "  <thead>\n",
       "    <tr style=\"text-align: right;\">\n",
       "      <th></th>\n",
       "      <th>month_day</th>\n",
       "      <th>home_team</th>\n",
       "      <th>away_team</th>\n",
       "      <th>home_pitcher</th>\n",
       "      <th>away_pitcher</th>\n",
       "      <th>home_ml</th>\n",
       "      <th>away_ml</th>\n",
       "      <th>over_under</th>\n",
       "    </tr>\n",
       "  </thead>\n",
       "  <tbody>\n",
       "    <tr>\n",
       "      <th>0</th>\n",
       "      <td>410</td>\n",
       "      <td>NYM</td>\n",
       "      <td>PHI</td>\n",
       "      <td>Harvey(R)</td>\n",
       "      <td>Hellickson(R)</td>\n",
       "      <td>-230</td>\n",
       "      <td>+210</td>\n",
       "      <td>6.5</td>\n",
       "    </tr>\n",
       "    <tr>\n",
       "      <th>1</th>\n",
       "      <td>410</td>\n",
       "      <td>WSH</td>\n",
       "      <td>MIA</td>\n",
       "      <td>Ross(R)</td>\n",
       "      <td>Koehler(R)</td>\n",
       "      <td>-153</td>\n",
       "      <td>+141</td>\n",
       "      <td>8.0</td>\n",
       "    </tr>\n",
       "    <tr>\n",
       "      <th>2</th>\n",
       "      <td>410</td>\n",
       "      <td>ATL</td>\n",
       "      <td>STL</td>\n",
       "      <td>Perez(R)</td>\n",
       "      <td>Wainwright(R)</td>\n",
       "      <td>+146</td>\n",
       "      <td>-159</td>\n",
       "      <td>7.5</td>\n",
       "    </tr>\n",
       "    <tr>\n",
       "      <th>3</th>\n",
       "      <td>410</td>\n",
       "      <td>SF</td>\n",
       "      <td>LAD</td>\n",
       "      <td>Cueto(R)</td>\n",
       "      <td>Kazmir(L)</td>\n",
       "      <td>-142</td>\n",
       "      <td>+131</td>\n",
       "      <td>7.5</td>\n",
       "    </tr>\n",
       "    <tr>\n",
       "      <th>4</th>\n",
       "      <td>410</td>\n",
       "      <td>COL</td>\n",
       "      <td>SD</td>\n",
       "      <td>Bettis(R)</td>\n",
       "      <td>Shields(R)</td>\n",
       "      <td>-131</td>\n",
       "      <td>+121</td>\n",
       "      <td>11.0</td>\n",
       "    </tr>\n",
       "    <tr>\n",
       "      <th>5</th>\n",
       "      <td>410</td>\n",
       "      <td>ARI</td>\n",
       "      <td>CHC</td>\n",
       "      <td>Miller(R)</td>\n",
       "      <td>Arrieta(R)</td>\n",
       "      <td>+187</td>\n",
       "      <td>-204</td>\n",
       "      <td>8.0</td>\n",
       "    </tr>\n",
       "    <tr>\n",
       "      <th>6</th>\n",
       "      <td>410</td>\n",
       "      <td>TOR</td>\n",
       "      <td>BOS</td>\n",
       "      <td>Estrada(R)</td>\n",
       "      <td>Wright(R)</td>\n",
       "      <td>-148</td>\n",
       "      <td>+136</td>\n",
       "      <td>9.5</td>\n",
       "    </tr>\n",
       "    <tr>\n",
       "      <th>7</th>\n",
       "      <td>410</td>\n",
       "      <td>BAL</td>\n",
       "      <td>TB</td>\n",
       "      <td>Worley(R)</td>\n",
       "      <td>Odorizzi(R)</td>\n",
       "      <td>-101</td>\n",
       "      <td>-107</td>\n",
       "      <td>8.0</td>\n",
       "    </tr>\n",
       "    <tr>\n",
       "      <th>8</th>\n",
       "      <td>410</td>\n",
       "      <td>KC</td>\n",
       "      <td>MIN</td>\n",
       "      <td>Volquez(R)</td>\n",
       "      <td>Nolasco(R)</td>\n",
       "      <td>-164</td>\n",
       "      <td>+151</td>\n",
       "      <td>8.5</td>\n",
       "    </tr>\n",
       "    <tr>\n",
       "      <th>9</th>\n",
       "      <td>410</td>\n",
       "      <td>LAA</td>\n",
       "      <td>TEX</td>\n",
       "      <td>Weaver(R)</td>\n",
       "      <td>Perez(L)</td>\n",
       "      <td>-125</td>\n",
       "      <td>+115</td>\n",
       "      <td>8.5</td>\n",
       "    </tr>\n",
       "    <tr>\n",
       "      <th>10</th>\n",
       "      <td>410</td>\n",
       "      <td>SEA</td>\n",
       "      <td>OAK</td>\n",
       "      <td>Hernandez(R)</td>\n",
       "      <td>Bassitt(R)</td>\n",
       "      <td>-155</td>\n",
       "      <td>+143</td>\n",
       "      <td>7.5</td>\n",
       "    </tr>\n",
       "    <tr>\n",
       "      <th>11</th>\n",
       "      <td>410</td>\n",
       "      <td>MIL</td>\n",
       "      <td>HOU</td>\n",
       "      <td>Nelson(R)</td>\n",
       "      <td>Keuchel(L)</td>\n",
       "      <td>+151</td>\n",
       "      <td>-164</td>\n",
       "      <td>9.0</td>\n",
       "    </tr>\n",
       "  </tbody>\n",
       "</table>\n",
       "</div>"
      ],
      "text/plain": [
       "   month_day home_team away_team  home_pitcher   away_pitcher home_ml away_ml  \\\n",
       "0        410       NYM       PHI     Harvey(R)  Hellickson(R)    -230    +210   \n",
       "1        410       WSH       MIA       Ross(R)     Koehler(R)    -153    +141   \n",
       "2        410       ATL       STL      Perez(R)  Wainwright(R)    +146    -159   \n",
       "3        410        SF       LAD      Cueto(R)      Kazmir(L)    -142    +131   \n",
       "4        410       COL        SD     Bettis(R)     Shields(R)    -131    +121   \n",
       "5        410       ARI       CHC     Miller(R)     Arrieta(R)    +187    -204   \n",
       "6        410       TOR       BOS    Estrada(R)      Wright(R)    -148    +136   \n",
       "7        410       BAL        TB     Worley(R)    Odorizzi(R)    -101    -107   \n",
       "8        410        KC       MIN    Volquez(R)     Nolasco(R)    -164    +151   \n",
       "9        410       LAA       TEX     Weaver(R)       Perez(L)    -125    +115   \n",
       "10       410       SEA       OAK  Hernandez(R)     Bassitt(R)    -155    +143   \n",
       "11       410       MIL       HOU     Nelson(R)     Keuchel(L)    +151    -164   \n",
       "\n",
       "    over_under  \n",
       "0          6.5  \n",
       "1          8.0  \n",
       "2          7.5  \n",
       "3          7.5  \n",
       "4         11.0  \n",
       "5          8.0  \n",
       "6          9.5  \n",
       "7          8.0  \n",
       "8          8.5  \n",
       "9          8.5  \n",
       "10         7.5  \n",
       "11         9.0  "
      ]
     },
     "execution_count": 130,
     "metadata": {},
     "output_type": "execute_result"
    }
   ],
   "source": [
    "df"
   ]
  },
  {
   "cell_type": "code",
   "execution_count": null,
   "metadata": {
    "collapsed": true
   },
   "outputs": [],
   "source": [
    "''"
   ]
  },
  {
   "cell_type": "code",
   "execution_count": 41,
   "metadata": {
    "collapsed": false
   },
   "outputs": [],
   "source": [
    "mdtups = month_day_tups[0:99] + month_day_tups[103:]"
   ]
  },
  {
   "cell_type": "code",
   "execution_count": 58,
   "metadata": {
    "collapsed": true
   },
   "outputs": [],
   "source": [
    "from time import sleep "
   ]
  },
  {
   "cell_type": "code",
   "execution_count": 131,
   "metadata": {
    "collapsed": false,
    "scrolled": true
   },
   "outputs": [
    {
     "name": "stdout",
     "output_type": "stream",
     "text": [
      "Scraping lines for (4, 3)\n",
      "Scraping lines for (4, 4)\n",
      "Scraping lines for (4, 5)\n",
      "Scraping lines for (4, 6)\n",
      "Scraping lines for (4, 7)\n",
      "Scraping lines for (4, 8)\n",
      "Scraping lines for (4, 9)\n",
      "Scraping lines for (4, 10)\n",
      "Scraping lines for (4, 11)\n",
      "Scraping lines for (4, 12)\n",
      "Scraping lines for (4, 13)\n",
      "Scraping lines for (4, 14)\n",
      "Scraping lines for (4, 15)\n",
      "Scraping lines for (4, 16)\n",
      "Scraping lines for (4, 17)\n",
      "Scraping lines for (4, 18)\n",
      "Scraping lines for (4, 19)\n",
      "Scraping lines for (4, 20)\n",
      "Scraping lines for (4, 21)\n",
      "Scraping lines for (4, 22)\n",
      "Scraping lines for (4, 23)\n",
      "Scraping lines for (4, 24)\n",
      "Scraping lines for (4, 25)\n",
      "Scraping lines for (4, 26)\n",
      "Scraping lines for (4, 27)\n",
      "Scraping lines for (4, 28)\n",
      "Scraping lines for (4, 29)\n",
      "Scraping lines for (4, 30)\n",
      "Scraping lines for (5, 1)\n",
      "Scraping lines for (5, 2)\n",
      "Scraping lines for (5, 3)\n",
      "Scraping lines for (5, 4)\n",
      "Scraping lines for (5, 5)\n",
      "Scraping lines for (5, 6)\n",
      "Scraping lines for (5, 7)\n",
      "Scraping lines for (5, 8)\n",
      "Scraping lines for (5, 9)\n",
      "Scraping lines for (5, 10)\n",
      "Scraping lines for (5, 11)\n",
      "Scraping lines for (5, 12)\n",
      "Scraping lines for (5, 13)\n",
      "Scraping lines for (5, 14)\n",
      "Scraping lines for (5, 15)\n",
      "Scraping lines for (5, 16)\n",
      "Scraping lines for (5, 17)\n",
      "Scraping lines for (5, 18)\n",
      "Scraping lines for (5, 19)\n",
      "Scraping lines for (5, 20)\n",
      "Scraping lines for (5, 21)\n",
      "Scraping lines for (5, 22)\n",
      "Scraping lines for (5, 23)\n",
      "Scraping lines for (5, 24)\n",
      "Scraping lines for (5, 25)\n",
      "Scraping lines for (5, 26)\n",
      "Scraping lines for (5, 27)\n",
      "Scraping lines for (5, 28)\n",
      "Scraping lines for (5, 29)\n",
      "Scraping lines for (5, 30)\n",
      "Scraping lines for (5, 31)\n",
      "Scraping lines for (6, 1)\n",
      "Scraping lines for (6, 2)\n",
      "Scraping lines for (6, 3)\n",
      "Scraping lines for (6, 4)\n",
      "Scraping lines for (6, 5)\n",
      "Scraping lines for (6, 6)\n",
      "Scraping lines for (6, 7)\n",
      "Scraping lines for (6, 8)\n",
      "Scraping lines for (6, 9)\n",
      "Scraping lines for (6, 10)\n",
      "Scraping lines for (6, 11)\n",
      "Scraping lines for (6, 12)\n",
      "Scraping lines for (6, 13)\n",
      "Scraping lines for (6, 14)\n",
      "Scraping lines for (6, 15)\n",
      "Scraping lines for (6, 16)\n",
      "Scraping lines for (6, 17)\n",
      "Scraping lines for (6, 18)\n",
      "Scraping lines for (6, 19)\n",
      "Scraping lines for (6, 20)\n",
      "Scraping lines for (6, 21)\n",
      "Scraping lines for (6, 22)\n",
      "Scraping lines for (6, 23)\n",
      "Scraping lines for (6, 24)\n",
      "Scraping lines for (6, 25)\n",
      "Scraping lines for (6, 26)\n",
      "Scraping lines for (6, 27)\n",
      "Scraping lines for (6, 28)\n",
      "Scraping lines for (6, 29)\n",
      "Scraping lines for (6, 30)\n",
      "Scraping lines for (7, 1)\n",
      "Scraping lines for (7, 2)\n",
      "Scraping lines for (7, 3)\n",
      "Scraping lines for (7, 4)\n",
      "Scraping lines for (7, 5)\n",
      "Scraping lines for (7, 6)\n",
      "Scraping lines for (7, 7)\n",
      "Scraping lines for (7, 8)\n",
      "Scraping lines for (7, 9)\n",
      "Scraping lines for (7, 10)\n",
      "Scraping lines for (7, 15)\n",
      "Scraping lines for (7, 16)\n",
      "Scraping lines for (7, 17)\n",
      "Scraping lines for (7, 18)\n",
      "Scraping lines for (7, 19)\n",
      "Scraping lines for (7, 20)\n",
      "Scraping lines for (7, 21)\n",
      "Scraping lines for (7, 22)\n",
      "Scraping lines for (7, 23)\n",
      "Scraping lines for (7, 24)\n",
      "Scraping lines for (7, 25)\n",
      "Scraping lines for (7, 26)\n",
      "Scraping lines for (7, 27)\n",
      "Scraping lines for (7, 28)\n",
      "Scraping lines for (7, 29)\n",
      "Scraping lines for (7, 30)\n",
      "Scraping lines for (7, 31)\n",
      "Scraping lines for (8, 1)\n",
      "Scraping lines for (8, 2)\n",
      "Scraping lines for (8, 3)\n",
      "Scraping lines for (8, 4)\n",
      "Scraping lines for (8, 5)\n",
      "Scraping lines for (8, 6)\n",
      "Scraping lines for (8, 7)\n",
      "Scraping lines for (8, 8)\n",
      "Scraping lines for (8, 9)\n",
      "Scraping lines for (8, 10)\n",
      "Scraping lines for (8, 11)\n",
      "Scraping lines for (8, 12)\n",
      "Scraping lines for (8, 13)\n",
      "Scraping lines for (8, 14)\n",
      "Scraping lines for (8, 15)\n",
      "Scraping lines for (8, 16)\n",
      "Scraping lines for (8, 17)\n",
      "Scraping lines for (8, 18)\n",
      "Scraping lines for (8, 19)\n",
      "Scraping lines for (8, 20)\n",
      "Scraping lines for (8, 21)\n",
      "Scraping lines for (8, 22)\n",
      "Scraping lines for (8, 23)\n",
      "Scraping lines for (8, 24)\n",
      "Scraping lines for (8, 25)\n",
      "Scraping lines for (8, 26)\n",
      "Scraping lines for (8, 27)\n",
      "Scraping lines for (8, 28)\n",
      "Scraping lines for (8, 29)\n",
      "Scraping lines for (8, 30)\n",
      "Scraping lines for (8, 31)\n",
      "Scraping lines for (9, 1)\n",
      "Scraping lines for (9, 2)\n",
      "Scraping lines for (9, 3)\n",
      "Scraping lines for (9, 4)\n",
      "Scraping lines for (9, 5)\n",
      "Scraping lines for (9, 6)\n",
      "Scraping lines for (9, 7)\n",
      "Scraping lines for (9, 8)\n",
      "Scraping lines for (9, 9)\n",
      "Scraping lines for (9, 10)\n",
      "Scraping lines for (9, 11)\n",
      "Scraping lines for (9, 12)\n",
      "Scraping lines for (9, 13)\n",
      "Scraping lines for (9, 14)\n",
      "Scraping lines for (9, 15)\n",
      "Scraping lines for (9, 16)\n",
      "Scraping lines for (9, 17)\n",
      "Scraping lines for (9, 18)\n",
      "Scraping lines for (9, 19)\n",
      "Scraping lines for (9, 20)\n",
      "Scraping lines for (9, 21)\n",
      "Scraping lines for (9, 22)\n",
      "Scraping lines for (9, 23)\n",
      "Scraping lines for (9, 24)\n",
      "Scraping lines for (9, 25)\n",
      "Scraping lines for (9, 26)\n",
      "Scraping lines for (9, 27)\n",
      "Scraping lines for (9, 28)\n",
      "Scraping lines for (9, 29)\n",
      "Scraping lines for (9, 30)\n",
      "Scraping lines for (10, 1)\n",
      "Scraping lines for (10, 2)\n"
     ]
    }
   ],
   "source": [
    "lines2016 = pd.DataFrame()\n",
    "for mdtup in mdtups:\n",
    "    try:\n",
    "        print('Scraping lines for {}'.format(mdtup))\n",
    "        days_lines = scrape_mlb_vegas_lines(mdtup[1], mdtup[0], 2016)\n",
    "        lines2016 = pd.concat([lines2016, days_lines], axis=1)\n",
    "        sleep(2)\n",
    "    except Exception as e:\n",
    "        print(\"Unable to scrape lines for {} due to {}\".format(mdtup, e))"
   ]
  },
  {
   "cell_type": "code",
   "execution_count": 46,
   "metadata": {
    "collapsed": false
   },
   "outputs": [],
   "source": [
    "import pandas as pd "
   ]
  },
  {
   "cell_type": "code",
   "execution_count": 60,
   "metadata": {
    "collapsed": false
   },
   "outputs": [],
   "source": [
    "vegas_lines_header = 'month_day,home_team,away_team,home_pitcher,away_pitcher,home_ml,away_ml,over_under'\n",
    "lines_df = pd.DataFrame(lines2016, columns=vegas_lines_header.split(','))"
   ]
  },
  {
   "cell_type": "code",
   "execution_count": 133,
   "metadata": {
    "collapsed": false,
    "scrolled": true
   },
   "outputs": [],
   "source": [
    "clean_lines = lines_df[lines_df.month_day != '403']"
   ]
  },
  {
   "cell_type": "code",
   "execution_count": 136,
   "metadata": {
    "collapsed": false
   },
   "outputs": [
    {
     "data": {
      "text/plain": [
       "0"
      ]
     },
     "execution_count": 136,
     "metadata": {},
     "output_type": "execute_result"
    }
   ],
   "source": [
    "clean_lines.over_under.isnull().sum()"
   ]
  },
  {
   "cell_type": "code",
   "execution_count": null,
   "metadata": {
    "collapsed": true
   },
   "outputs": [],
   "source": []
  },
  {
   "cell_type": "code",
   "execution_count": null,
   "metadata": {
    "collapsed": true
   },
   "outputs": [],
   "source": []
  },
  {
   "cell_type": "code",
   "execution_count": null,
   "metadata": {
    "collapsed": true
   },
   "outputs": [],
   "source": []
  },
  {
   "cell_type": "code",
   "execution_count": 137,
   "metadata": {
    "collapsed": true
   },
   "outputs": [],
   "source": [
    "clean_lines.to_csv('../mlb_data/vegas_lines/2016lines.csv', index=False)"
   ]
  },
  {
   "cell_type": "code",
   "execution_count": null,
   "metadata": {
    "collapsed": true
   },
   "outputs": [],
   "source": []
  },
  {
   "cell_type": "code",
   "execution_count": null,
   "metadata": {
    "collapsed": true
   },
   "outputs": [],
   "source": []
  },
  {
   "cell_type": "code",
   "execution_count": null,
   "metadata": {
    "collapsed": true
   },
   "outputs": [],
   "source": []
  }
 ],
 "metadata": {
  "anaconda-cloud": {},
  "kernelspec": {
   "display_name": "Python [Root]",
   "language": "python",
   "name": "Python [Root]"
  },
  "language_info": {
   "codemirror_mode": {
    "name": "ipython",
    "version": 3
   },
   "file_extension": ".py",
   "mimetype": "text/x-python",
   "name": "python",
   "nbconvert_exporter": "python",
   "pygments_lexer": "ipython3",
   "version": "3.5.2"
  }
 },
 "nbformat": 4,
 "nbformat_minor": 0
}
